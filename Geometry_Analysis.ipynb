{
 "cells": [
  {
   "cell_type": "code",
   "execution_count": 2,
   "metadata": {},
   "outputs": [
    {
     "name": "stdout",
     "output_type": "stream",
     "text": [
      "H1 to O : 0.969\n",
      "H2 to O : 0.969\n",
      "H2 to H1 : 1.527\n"
     ]
    }
   ],
   "source": [
    "import numpy\n",
    "import os\n",
    "\n",
    "def calculate_distance(coords1,coords2):\n",
    "    \"\"\"\n",
    "    This function has two arguments, the coordinates of two atoms. It returns the distance between atoms.\n",
    "    \"\"\"\n",
    "    x_dists = coords1[0] - coords2[0]\n",
    "    y_dists = coords1[1] - coords2[1]\n",
    "    z_dists = coords1[2] - coords2[2]\n",
    "    dists_12 = numpy.sqrt(x_dists**2 + y_dists**2 + z_dists**2)\n",
    "    return dists_12\n",
    "\n",
    "def bond_checks(distance,minimum=0,maximum=1.5):\n",
    "    \"\"\"\n",
    "    Check a distance to see if it is a bond. Has two returns; true or false. User specifies minimum and maximum values \n",
    "    for bond. Default minimum is 0, default maximum is 1.5.\n",
    "    \"\"\"\n",
    "    if distance>minimum and distance<maximum:\n",
    "        return True\n",
    "    else:\n",
    "        return False\n",
    "\n",
    "geometry_file = os.path.join('water.xyz')\n",
    "geometry = numpy.genfromtxt(fname=geometry_file, dtype='unicode', skip_header=2)\n",
    "headers = geometry[:,0]\n",
    "geometries = geometry[:,1:]\n",
    "geometries = geometries.astype(numpy.float)\n",
    "\n",
    "num_atoms=len(headers) #with functions!\n",
    "for num1 in range(0,num_atoms):\n",
    "    for num2 in range(0,num_atoms):\n",
    "        if num1>num2:\n",
    "            distances = calculate_distance(geometries[num1],geometries[num2])\n",
    "            if bond_checks(distances,0,1.6) is True:\n",
    "                print(F'{headers[num1]} to {headers[num2]} : {distances:.3f}')"
   ]
  },
  {
   "cell_type": "code",
   "execution_count": null,
   "metadata": {},
   "outputs": [],
   "source": []
  }
 ],
 "metadata": {
  "kernelspec": {
   "display_name": "Python 3",
   "language": "python",
   "name": "python3"
  },
  "language_info": {
   "codemirror_mode": {
    "name": "ipython",
    "version": 3
   },
   "file_extension": ".py",
   "mimetype": "text/x-python",
   "name": "python",
   "nbconvert_exporter": "python",
   "pygments_lexer": "ipython3",
   "version": "3.7.3"
  }
 },
 "nbformat": 4,
 "nbformat_minor": 2
}
